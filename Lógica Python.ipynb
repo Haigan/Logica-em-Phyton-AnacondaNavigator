{
 "cells": [
  {
   "cell_type": "code",
   "execution_count": 3,
   "id": "1bfbc44a",
   "metadata": {},
   "outputs": [
    {
     "name": "stdout",
     "output_type": "stream",
     "text": [
      "Hello World!\n"
     ]
    }
   ],
   "source": [
    "print(\"Hello World!\")"
   ]
  },
  {
   "cell_type": "code",
   "execution_count": 6,
   "id": "ae74a9be",
   "metadata": {},
   "outputs": [
    {
     "name": "stdout",
     "output_type": "stream",
     "text": [
      "10\n",
      "9\n",
      "X = 19\n"
     ]
    }
   ],
   "source": [
    "A = int(input())\n",
    "B = int(input())\n",
    "X = A + B\n",
    "print(\"X =\",X)"
   ]
  },
  {
   "cell_type": "code",
   "execution_count": 9,
   "id": "6e8d6220",
   "metadata": {},
   "outputs": [
    {
     "name": "stdout",
     "output_type": "stream",
     "text": [
      "-30\n",
      "10\n",
      "SOMA =  -20\n"
     ]
    }
   ],
   "source": [
    "A = int(input())\n",
    "B = int(input())\n",
    "SOMA = A + B\n",
    "print(\"SOMA = \",SOMA)"
   ]
  },
  {
   "cell_type": "code",
   "execution_count": 10,
   "id": "74474d44",
   "metadata": {},
   "outputs": [
    {
     "name": "stdout",
     "output_type": "stream",
     "text": [
      "9\n",
      "3\n",
      "PROD = 27\n"
     ]
    }
   ],
   "source": [
    "A = int(input())\n",
    "B = int(input())\n",
    "PROD = A * B\n",
    "print(\"PROD =\",PROD)"
   ]
  },
  {
   "cell_type": "code",
   "execution_count": null,
   "id": "f90951eb",
   "metadata": {},
   "outputs": [],
   "source": [
    "A = float(input())\n",
    "B = float(input())\n",
    "MEDIA = (((A*3.5)+(B*7.5))/11)\n",
    "print(\"MEDIA = %0.5f\"%(MEDIA))"
   ]
  },
  {
   "cell_type": "code",
   "execution_count": null,
   "id": "da29a6d2",
   "metadata": {},
   "outputs": [],
   "source": [
    "A = float(input())\n",
    "B = float(input())\n",
    "C = float(input())\n",
    "MEDIA = (((A*2)+(B*3)+(C*5))/10)\n",
    "print(\"MEDIA = %0.1f\"%MEDIA)"
   ]
  },
  {
   "cell_type": "code",
   "execution_count": null,
   "id": "55735b4f",
   "metadata": {},
   "outputs": [],
   "source": [
    "numero = int(input())\n",
    "horas = int(input())\n",
    "salario = float(input())\n",
    "calculo = (horas*salario)\n",
    "\n",
    "print(\"NUMBER =\",numero)\n",
    "print(\"SALARY = U$ %0.2f\"%calculo)"
   ]
  },
  {
   "cell_type": "code",
   "execution_count": null,
   "id": "47a79a2e",
   "metadata": {},
   "outputs": [],
   "source": [
    "A = int(input())\n",
    "B = int(input())\n",
    "C = int(input())\n",
    "D = int(input())\n",
    "DIFERENCA = (A*B-C*D)\n",
    "print(\"DIFERENCA =\",DIFERENCA)"
   ]
  },
  {
   "cell_type": "code",
   "execution_count": null,
   "id": "a72ebe67",
   "metadata": {},
   "outputs": [],
   "source": [
    "nome = input()\n",
    "salario = float(input())\n",
    "vendas = float(input())\n",
    "total = (salario+(vendas*(15/100)))\n",
    "print(\"TOTAL = R$ %0.2f\"%total)"
   ]
  },
  {
   "cell_type": "code",
   "execution_count": null,
   "id": "4a9fdfab",
   "metadata": {},
   "outputs": [],
   "source": [
    "A,A1,A2 = input().split()\n",
    "A = int(A)\n",
    "A1 = int(A1)\n",
    "A2 = float(A2)\n",
    "B,B1,B2 = input().split()\n",
    "B = int(B)\n",
    "B1 = int(B1)\n",
    "B2 = float(B2)\n",
    "VALOR = ((A1*A2)+(B1*B2))\n",
    "print(\"VALOR A PAGAR: R$ %0.2f\"%VALOR)"
   ]
  },
  {
   "cell_type": "code",
   "execution_count": null,
   "id": "e0a8b028",
   "metadata": {},
   "outputs": [],
   "source": [
    "X = int(input())\n",
    "Y = float(input())\n",
    "CONSUMO = X/Y\n",
    "print(\"%0.3f km/l\"%CONSUMO)"
   ]
  },
  {
   "cell_type": "code",
   "execution_count": null,
   "id": "62007ff0",
   "metadata": {},
   "outputs": [],
   "source": [
    "x1,y1 = input().split()\n",
    "x1 = float(x1)\n",
    "y1 = float(y1)\n",
    "x2,y2 = input().split()\n",
    "x2 = float(x2)\n",
    "y2 = float(y2)\n",
    "fórmula = ((x2-x1)**2+(y2-y1)**2)**0.5\n",
    "print(\"%0.4f\"%fórmula)"
   ]
  },
  {
   "cell_type": "code",
   "execution_count": null,
   "id": "2420a3ab",
   "metadata": {},
   "outputs": [],
   "source": [
    "Entrada = int(input())\n",
    "Tempo = (Entrada*2)\n",
    "print(f\"{Tempo} minutos\")"
   ]
  },
  {
   "cell_type": "code",
   "execution_count": null,
   "id": "fd9795e7",
   "metadata": {},
   "outputs": [],
   "source": [
    "T = int(input())\n",
    "V = int(input())\n",
    "Gasto = (V*T)/12\n",
    "print(\"%0.3f\"%Gasto)"
   ]
  },
  {
   "cell_type": "code",
   "execution_count": null,
   "id": "5ecf47bc",
   "metadata": {},
   "outputs": [],
   "source": [
    "a = input()\n",
    "b = input()\n",
    "c = input()\n",
    "\n",
    "\n",
    "if (a==\"vertebrado\"):\n",
    "    if(b==\"ave\"):\n",
    "        if(c==\"carnivoro\"):\n",
    "            print(\"aguia\")\n",
    "        elif(c==\"onivoro\"):\n",
    "            print(\"pomba\")\n",
    "    elif(b==\"mamifero\"):\n",
    "        if(c==\"onivoro\"):\n",
    "            print(\"homem\")\n",
    "        elif(c==\"herbivoro\"):\n",
    "            print(\"vaca\")\n",
    "elif(a==\"invertebrado\"):\n",
    "    if(b==\"inseto\"):\n",
    "        if(c==\"hematofago\"):\n",
    "            print(\"pulga\")\n",
    "        elif(c==\"herbivoro\"):\n",
    "            print(\"lagarta\")\n",
    "    elif(b==\"anelideo\"):\n",
    "        if(c==\"hematofago\"):\n",
    "            print(\"sanguessuga\")\n",
    "        elif(c==\"onivoro\"):\n",
    "            print(\"minhoca\")"
   ]
  },
  {
   "cell_type": "code",
   "execution_count": null,
   "id": "82cdb326",
   "metadata": {},
   "outputs": [],
   "source": [
    "num = int(input())\n",
    "print(num)\n",
    "\n",
    "c100 = num//100\n",
    "num = num-c100*100\n",
    "\n",
    "c50 = num//50\n",
    "num = num-c50*50\n",
    "\n",
    "c20 = num//20\n",
    "num = num-c20*20\n",
    "\n",
    "c10 = num//10\n",
    "num = num-c10*10\n",
    "\n",
    "c5 = num//5\n",
    "num = num-c5*5\n",
    "\n",
    "c2 = num//2\n",
    "num = num-c2*2\n",
    "\n",
    "c1 = num//1\n",
    "num = num-c1*1\n",
    "\n",
    "print(f\"{c100} nota(s) de R$ 100,00\")\n",
    "print(f\"{c50} nota(s) de R$ 50,00\")\n",
    "print(f\"{c20} nota(s) de R$ 20,00\")\n",
    "print(f\"{c10} nota(s) de R$ 10,00\")\n",
    "print(f\"{c5} nota(s) de R$ 5,00\")\n",
    "print(f\"{c2} nota(s) de R$ 2,00\")\n",
    "print(f\"{c1} nota(s) de R$ 1,00\")"
   ]
  },
  {
   "cell_type": "code",
   "execution_count": null,
   "id": "1ade5add",
   "metadata": {},
   "outputs": [],
   "source": [
    "n = float(input());\n",
    "\n",
    "if (n >= 0 and n <= 25.0000):\n",
    "    print(\"Intervalo [0,25]\");\n",
    "elif (n > 25.0000 and n <= 50.0000):\n",
    "    print(\"Intervalo (25,50]\");\n",
    "elif (n > 50.0000 and n <= 75.0000):\n",
    "    print(\"Intervalo (50,75]\");\n",
    "elif (n > 75.0000 and n <= 100.0000):\n",
    "    print(\"Intervalo (75,100]\");\n",
    "else:\n",
    "    print(\"Fora de intervalo\");"
   ]
  },
  {
   "cell_type": "code",
   "execution_count": null,
   "id": "af79bc29",
   "metadata": {},
   "outputs": [],
   "source": [
    "num = input().split()\n",
    "\n",
    "HI = int(num[0])\n",
    "MI = int(num[1])\n",
    "HF = int(num[2])\n",
    "MF = int(num[3])\n",
    "if HI < HF:\n",
    "    HORA = HF - HI\n",
    "    if MI < MF:\n",
    "        MINUTO=MF-MI\n",
    "    if MI > MF:\n",
    "        HORA=HORA-1\n",
    "        MINUTO=(60-MI)+MF\n",
    "    if MI == MF:\n",
    "        MINUTO=0\n",
    "if HI > HF:\n",
    "    HORA=(24-HI) + HF\n",
    "    if MI < MF:\n",
    "        MINUTO=MF-MI\n",
    "    if MI > MF:\n",
    "        HORA=HORA-1\n",
    "        MINUTO=(60-MI)+MF\n",
    "    if MI == MF:\n",
    "        MINUTO=0\n",
    "if HI == HF:\n",
    "    if MI < MF:\n",
    "        MINUTO=MF-MI\n",
    "        HORA=0\n",
    "    if MI > MF:\n",
    "        MINUTO=(60-MI)+MF\n",
    "        HORA=23\n",
    "    if MI == MF:\n",
    "        HORA=24\n",
    "        MINUTO=0\n",
    "print(\"O JOGO DUROU {} HORA(S) E {} MINUTO(S)\".format(HORA, MINUTO))"
   ]
  },
  {
   "cell_type": "code",
   "execution_count": null,
   "id": "d5515140",
   "metadata": {},
   "outputs": [],
   "source": [
    "num = float(input())\n",
    "\n",
    "c100 = num//100\n",
    "num = num-c100*100\n",
    "\n",
    "c50 = num//50\n",
    "num = num-c50*50\n",
    "\n",
    "c20 = num//20\n",
    "num = num-c20*20\n",
    "\n",
    "c10 = num//10\n",
    "num = num-c10*10\n",
    "\n",
    "c5 = num//5\n",
    "num = num-c5*5\n",
    "\n",
    "c2 = num//2\n",
    "num = num-c2*2\n",
    "\n",
    "moedas1 = num//1\n",
    "num = num-moedas1*1\n",
    "moedas1 = float(\"%.2f\"%moedas1)\n",
    "num = float(\"%.2f\"%num)\n",
    "\n",
    "moedas50= num//0.5\n",
    "num = num - moedas50*0.5\n",
    "moedas50 = float(\"%.2f\"%moedas50)\n",
    "num = float(\"%.2f\"%num)\n",
    "\n",
    "moedas25 = num//0.25\n",
    "num = num - moedas25*0.25\n",
    "moedas25 = float(\"%.2f\"%moedas25)\n",
    "num = float(\"%.2f\"%num)\n",
    "\n",
    "moedas10 = num//0.10\n",
    "num = num - moedas10*0.10\n",
    "moedas10 = float(\"%.2f\"%moedas10)\n",
    "num = float(\"%.2f\"%num)\n",
    "\n",
    "moedas5 = num//0.05\n",
    "num = num - moedas5/0.05\n",
    "moedas5 = float(\"%.2f\"%moedas5)\n",
    "num = float(\"%.2f\"%num)\n",
    "\n",
    "moedas01 = num*100\n",
    "moedas01 = float(\"%.2f\"%moedas01)\n",
    "num = float(\"%.2f\"%num)\n",
    "\n",
    "print(\"NOTAS:\")\n",
    "print(\"{} nota(s) de R$ 100.00\".format(int(c100)))\n",
    "print(\"{} nota(s) de R$ 50.00\".format(int(c50)))\n",
    "print(\"{} nota(s) de R$ 20.00\".format(int(c20)))\n",
    "print(\"{} nota(s) de R$ 10.00\".format(int(c10)))\n",
    "print(\"{} nota(s) de R$ 5.00\".format(int(c5)))\n",
    "print(\"{} nota(s) de R$ 2.00\".format(int(c2)))\n",
    "print(\"MOEDAS:\")\n",
    "print(\"{} moeda(s) de R$ 1.00\".format(int(moedas1)))\n",
    "print(\"{} moeda(s) de R$ 0.50\".format(int(moedas50)))\n",
    "print(\"{} moeda(s) de R$ 0.25\".format(int(moedas25)))\n",
    "print(\"{} moeda(s) de R$ 0.10\".format(int(moedas10)))\n",
    "print(\"{} moeda(s) de R$ 0.05\".format(int(moedas5)))\n",
    "print(\"{} moeda(s) de R$ 0.01\".format(int(moedas01)))"
   ]
  },
  {
   "cell_type": "code",
   "execution_count": null,
   "id": "75c2f991",
   "metadata": {},
   "outputs": [],
   "source": [
    "num = float(input())\n",
    "\n",
    "cédulas = [100, 50, 20, 10, 5, 2]\n",
    "moedas = [1, 0.50, 0.25, 0.10, 0.05, 0.01]\n",
    "\n",
    "print(\"NOTAS:\")\n",
    "for cédula in cédulas:\n",
    "    qn = int(num / cédula)\n",
    "    num-=qn*cédula\n",
    "    print(\"{} nota(s) de R$ {:.2f}\".format(qn, cédula))\n",
    "    \n",
    "print(\"MOEDAS:\")\n",
    "for moeda in moedas:\n",
    "    num = round(num, 2)\n",
    "    qm = int(num / moeda)\n",
    "    num-=qm*moeda\n",
    "    print(\"{} moeda(s) de R$ {:.2f}\".format(qm, moeda))"
   ]
  },
  {
   "cell_type": "code",
   "execution_count": null,
   "id": "e44b6e7b",
   "metadata": {},
   "outputs": [],
   "source": [
    "num = int(input())\n",
    "if num == 61:\n",
    "    print(\"Brasilia\")\n",
    "elif num == 71:\n",
    "    print(\"Salvador\")\n",
    "elif num == 11:\n",
    "    print(\"São Paulo\")\n",
    "elif num == 21:\n",
    "    print(\"Rio de Janeiro\")\n",
    "elif num == 32:\n",
    "    print(\"Juiz de Fora\")\n",
    "elif num == 19:\n",
    "    print(\"Campinas\")\n",
    "elif num == 27:\n",
    "    print(\"Vitoria\")\n",
    "elif num == 31:\n",
    "    print(\"Belo Horizonte\")\n",
    "else:\n",
    "    print(\"DDD nao cadastrado\")"
   ]
  },
  {
   "cell_type": "code",
   "execution_count": null,
   "id": "2e4e444e",
   "metadata": {},
   "outputs": [],
   "source": [
    "i = int(input())\n",
    "meses = ['','January', 'February', 'March', 'April', 'May', 'June', 'July', 'August', 'September', 'October', 'November', 'December']\n",
    "print(f'{meses[i]}')"
   ]
  },
  {
   "cell_type": "code",
   "execution_count": null,
   "id": "977db595",
   "metadata": {},
   "outputs": [],
   "source": [
    "for i in range(1,101):\n",
    "    if i%2==0:\n",
    "        print(f\"{i}\")"
   ]
  },
  {
   "cell_type": "code",
   "execution_count": null,
   "id": "e84cf83e",
   "metadata": {},
   "outputs": [],
   "source": [
    "i = 0\n",
    "for num in range(1,7):\n",
    "    n = float(input())\n",
    "    if n > 0:\n",
    "        i=i+1\n",
    "print(f'{i} valores positivos')"
   ]
  },
  {
   "cell_type": "code",
   "execution_count": null,
   "id": "20c60a1b",
   "metadata": {},
   "outputs": [],
   "source": [
    "i = 0\n",
    "soma = 0\n",
    "for num in range(1,7):\n",
    "    n = float(input())\n",
    "    if n > 0:\n",
    "        i=i+1\n",
    "        soma = soma + n\n",
    "        \n",
    "media = soma/i\n",
    "print(f'{i} valores positivos')\n",
    "print('%0.1f'%media)"
   ]
  },
  {
   "cell_type": "code",
   "execution_count": null,
   "id": "611aa4ff",
   "metadata": {},
   "outputs": [],
   "source": [
    "par = 0\n",
    "for i in range(5):\n",
    "    num = float(input())\n",
    "    if num%2==0:\n",
    "        par = par+1\n",
    "print(f'{par} valores pares')"
   ]
  },
  {
   "cell_type": "code",
   "execution_count": null,
   "id": "253e35bb",
   "metadata": {},
   "outputs": [],
   "source": [
    "par = 0\n",
    "impar = 0\n",
    "neg = 0\n",
    "pos = 0\n",
    "for i in range(5):\n",
    "    num = float(input())\n",
    "    if num%2==0:\n",
    "        par = par+1\n",
    "    else:\n",
    "        impar=impar+1\n",
    "    if num > 0:\n",
    "        pos = pos+1\n",
    "    elif num < 0:\n",
    "        neg = neg+1\n",
    "              \n",
    "print(f\"{par} valor(es) par(es)\")\n",
    "print(f\"{impar} valor(es) impar(es)\")\n",
    "print(f\"{pos} valor(es) positivo(s)\")\n",
    "print(f\"{neg} valor(es) negativo(s)\")"
   ]
  },
  {
   "cell_type": "code",
   "execution_count": null,
   "id": "6a944321",
   "metadata": {},
   "outputs": [],
   "source": [
    "x = int(input())\n",
    "for i in range(x+1):\n",
    "    if(i%2==1):\n",
    "        print(i)"
   ]
  },
  {
   "cell_type": "code",
   "execution_count": null,
   "id": "3eab41aa",
   "metadata": {},
   "outputs": [],
   "source": [
    "x = int(input())\n",
    "cont=0\n",
    "while cont < 6:\n",
    "    if x%2!=0:\n",
    "        print(x)\n",
    "        cont=cont+1\n",
    "    x=x+1"
   ]
  },
  {
   "cell_type": "code",
   "execution_count": null,
   "id": "9a96f4d1",
   "metadata": {},
   "outputs": [],
   "source": [
    "sm = 0\n",
    "k=0\n",
    "while k != 1:\n",
    "    M,N = input().split(\" \")\n",
    "    M = int(M)\n",
    "    N = int(N)\n",
    "    sm = 0\n",
    "    if M > N:\n",
    "        aux = M\n",
    "        M = N\n",
    "        N = aux\n",
    "    if M<=0 or N<=0:\n",
    "        k = 1\n",
    "    if k!=1:\n",
    "        for i in range(M,N+1):\n",
    "            print('%d '%(i),end=\"\")\n",
    "            sm+=i\n",
    "            if i == N:\n",
    "                print('Sum=%d'%(sm))"
   ]
  },
  {
   "cell_type": "code",
   "execution_count": null,
   "id": "889b4236",
   "metadata": {},
   "outputs": [],
   "source": [
    "senha = 1\n",
    "\n",
    "while senha != 2002:\n",
    "    senha = int(input())\n",
    "    if senha != 2002:\n",
    "        print('Senha Invalida')\n",
    "    else:\n",
    "        print('Acesso Permitido')\n",
    "        break"
   ]
  }
 ],
 "metadata": {
  "kernelspec": {
   "display_name": "Python 3",
   "language": "python",
   "name": "python3"
  },
  "language_info": {
   "codemirror_mode": {
    "name": "ipython",
    "version": 3
   },
   "file_extension": ".py",
   "mimetype": "text/x-python",
   "name": "python",
   "nbconvert_exporter": "python",
   "pygments_lexer": "ipython3",
   "version": "3.8.8"
  }
 },
 "nbformat": 4,
 "nbformat_minor": 5
}
